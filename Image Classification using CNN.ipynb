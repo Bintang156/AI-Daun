{
 "cells": [
  {
   "cell_type": "markdown",
   "metadata": {},
   "source": [
    "<h3>1. Import module yang dibutuhkan</h3>"
   ]
  },
  {
   "cell_type": "code",
   "execution_count": 2,
   "metadata": {},
   "outputs": [],
   "source": [
    "from sklearn.model_selection import train_test_split\n",
    "from sklearn.preprocessing import LabelEncoder\n",
    "from sklearn.metrics import classification_report\n",
    "from tensorflow.keras.models import Sequential\n",
    "from tensorflow.keras.layers import InputLayer, Flatten, Dense, Conv2D, MaxPool2D, Dropout\n",
    "from tensorflow.keras.optimizers import Adam\n",
    "import numpy as np\n",
    "import cv2\n",
    "import glob\n",
    "import matplotlib.pyplot as plt"
   ]
  },
  {
   "cell_type": "markdown",
   "metadata": {},
   "source": [
    "<h3>2. Load Dataset</h3>"
   ]
  },
  {
   "cell_type": "code",
   "execution_count": 3,
   "metadata": {},
   "outputs": [],
   "source": [
    "imagePaths = 'Dataset\\\\Daun\\\\'\n",
    "label_list = ['Jeruk_Nipis', 'Sirih']\n",
    "data = []\n",
    "labels = []"
   ]
  },
  {
   "cell_type": "code",
   "execution_count": 4,
   "metadata": {},
   "outputs": [],
   "source": [
    "for label in label_list:\n",
    "    for imagePath in glob.glob(imagePaths+label+'\\\\*.png'):\n",
    "        #print(imagePath)\n",
    "        image = cv2.imread(imagePath)\n",
    "        image = cv2.resize(image, (32, 32))\n",
    "        data.append(image)\n",
    "        labels.append(label)"
   ]
  },
  {
   "cell_type": "code",
   "execution_count": 5,
   "metadata": {},
   "outputs": [
    {
     "data": {
      "text/plain": [
       "(94, 32, 32, 3)"
      ]
     },
     "execution_count": 5,
     "metadata": {},
     "output_type": "execute_result"
    }
   ],
   "source": [
    "np.array(data).shape"
   ]
  },
  {
   "cell_type": "markdown",
   "metadata": {},
   "source": [
    "<h3>3. Data Preprocessing</h3>"
   ]
  },
  {
   "cell_type": "code",
   "execution_count": 6,
   "metadata": {},
   "outputs": [],
   "source": [
    "# ubah type data dari list menjadi array\n",
    "# ubah nilai dari tiap pixel menjadi range [0..1]\n",
    "data = np.array(data, dtype='float') / 255.0\n",
    "labels = np.array(labels)"
   ]
  },
  {
   "cell_type": "code",
   "execution_count": 7,
   "metadata": {},
   "outputs": [
    {
     "name": "stdout",
     "output_type": "stream",
     "text": [
      "['Jeruk_Nipis' 'Jeruk_Nipis' 'Jeruk_Nipis' 'Jeruk_Nipis' 'Jeruk_Nipis'\n",
      " 'Jeruk_Nipis' 'Jeruk_Nipis' 'Jeruk_Nipis' 'Jeruk_Nipis' 'Jeruk_Nipis'\n",
      " 'Jeruk_Nipis' 'Jeruk_Nipis' 'Jeruk_Nipis' 'Jeruk_Nipis' 'Jeruk_Nipis'\n",
      " 'Jeruk_Nipis' 'Jeruk_Nipis' 'Jeruk_Nipis' 'Jeruk_Nipis' 'Jeruk_Nipis'\n",
      " 'Jeruk_Nipis' 'Jeruk_Nipis' 'Jeruk_Nipis' 'Jeruk_Nipis' 'Jeruk_Nipis'\n",
      " 'Jeruk_Nipis' 'Jeruk_Nipis' 'Jeruk_Nipis' 'Jeruk_Nipis' 'Jeruk_Nipis'\n",
      " 'Jeruk_Nipis' 'Jeruk_Nipis' 'Jeruk_Nipis' 'Jeruk_Nipis' 'Jeruk_Nipis'\n",
      " 'Jeruk_Nipis' 'Jeruk_Nipis' 'Jeruk_Nipis' 'Jeruk_Nipis' 'Jeruk_Nipis'\n",
      " 'Jeruk_Nipis' 'Jeruk_Nipis' 'Jeruk_Nipis' 'Jeruk_Nipis' 'Jeruk_Nipis'\n",
      " 'Jeruk_Nipis' 'Jeruk_Nipis' 'Sirih' 'Sirih' 'Sirih' 'Sirih' 'Sirih'\n",
      " 'Sirih' 'Sirih' 'Sirih' 'Sirih' 'Sirih' 'Sirih' 'Sirih' 'Sirih' 'Sirih'\n",
      " 'Sirih' 'Sirih' 'Sirih' 'Sirih' 'Sirih' 'Sirih' 'Sirih' 'Sirih' 'Sirih'\n",
      " 'Sirih' 'Sirih' 'Sirih' 'Sirih' 'Sirih' 'Sirih' 'Sirih' 'Sirih' 'Sirih'\n",
      " 'Sirih' 'Sirih' 'Sirih' 'Sirih' 'Sirih' 'Sirih' 'Sirih' 'Sirih' 'Sirih'\n",
      " 'Sirih' 'Sirih' 'Sirih' 'Sirih' 'Sirih' 'Sirih']\n"
     ]
    }
   ],
   "source": [
    "print(labels)"
   ]
  },
  {
   "cell_type": "code",
   "execution_count": 8,
   "metadata": {},
   "outputs": [
    {
     "name": "stdout",
     "output_type": "stream",
     "text": [
      "[0 0 0 0 0 0 0 0 0 0 0 0 0 0 0 0 0 0 0 0 0 0 0 0 0 0 0 0 0 0 0 0 0 0 0 0 0\n",
      " 0 0 0 0 0 0 0 0 0 0 1 1 1 1 1 1 1 1 1 1 1 1 1 1 1 1 1 1 1 1 1 1 1 1 1 1 1\n",
      " 1 1 1 1 1 1 1 1 1 1 1 1 1 1 1 1 1 1 1 1]\n"
     ]
    }
   ],
   "source": [
    "# ubah nilai dari labels menjadi binary\n",
    "lb = LabelEncoder()\n",
    "labels = lb.fit_transform(labels)\n",
    "print(labels)"
   ]
  },
  {
   "cell_type": "markdown",
   "metadata": {},
   "source": [
    "<h3>4. Split Dataset</h3>"
   ]
  },
  {
   "cell_type": "code",
   "execution_count": 9,
   "metadata": {},
   "outputs": [],
   "source": [
    "x_train, x_test, y_train, y_test = train_test_split(data, labels, test_size=0.2, random_state=42)"
   ]
  },
  {
   "cell_type": "code",
   "execution_count": 10,
   "metadata": {},
   "outputs": [
    {
     "name": "stdout",
     "output_type": "stream",
     "text": [
      "Ukuran data train = (75, 32, 32, 3)\n",
      "Ukuran data test = (19, 32, 32, 3)\n"
     ]
    }
   ],
   "source": [
    "print('Ukuran data train =', x_train.shape)\n",
    "print('Ukuran data test =', x_test.shape)"
   ]
  },
  {
   "cell_type": "markdown",
   "metadata": {},
   "source": [
    "<h3>5. Build CNN Architecture</h3>"
   ]
  },
  {
   "cell_type": "code",
   "execution_count": 11,
   "metadata": {},
   "outputs": [],
   "source": [
    "model = Sequential()\n",
    "# Extracted Feature Layer\n",
    "model.add(InputLayer(input_shape=[32,32,3]))\n",
    "model.add(Conv2D(filters=32, kernel_size=2, strides=1, padding='same', activation='relu'))\n",
    "model.add(MaxPool2D(pool_size=2, padding='same'))\n",
    "model.add(Conv2D(filters=50, kernel_size=2, strides=1, padding='same', activation='relu'))\n",
    "model.add(MaxPool2D(pool_size=2, padding='same'))\n",
    "model.add(Dropout(0.25))\n",
    "model.add(Flatten())\n",
    "# Fully Connected Layer\n",
    "model.add(Dense(512, activation='relu'))\n",
    "model.add(Dropout(0.5))\n",
    "model.add(Dense(1, activation='sigmoid'))"
   ]
  },
  {
   "cell_type": "code",
   "execution_count": 12,
   "metadata": {},
   "outputs": [
    {
     "name": "stdout",
     "output_type": "stream",
     "text": [
      "Model: \"sequential\"\n",
      "_________________________________________________________________\n",
      " Layer (type)                Output Shape              Param #   \n",
      "=================================================================\n",
      " conv2d (Conv2D)             (None, 32, 32, 32)        416       \n",
      "                                                                 \n",
      " max_pooling2d (MaxPooling2D  (None, 16, 16, 32)       0         \n",
      " )                                                               \n",
      "                                                                 \n",
      " conv2d_1 (Conv2D)           (None, 16, 16, 50)        6450      \n",
      "                                                                 \n",
      " max_pooling2d_1 (MaxPooling  (None, 8, 8, 50)         0         \n",
      " 2D)                                                             \n",
      "                                                                 \n",
      " dropout (Dropout)           (None, 8, 8, 50)          0         \n",
      "                                                                 \n",
      " flatten (Flatten)           (None, 3200)              0         \n",
      "                                                                 \n",
      " dense (Dense)               (None, 512)               1638912   \n",
      "                                                                 \n",
      " dropout_1 (Dropout)         (None, 512)               0         \n",
      "                                                                 \n",
      " dense_1 (Dense)             (None, 1)                 513       \n",
      "                                                                 \n",
      "=================================================================\n",
      "Total params: 1,646,291\n",
      "Trainable params: 1,646,291\n",
      "Non-trainable params: 0\n",
      "_________________________________________________________________\n"
     ]
    }
   ],
   "source": [
    "model.summary()"
   ]
  },
  {
   "cell_type": "code",
   "execution_count": 13,
   "metadata": {},
   "outputs": [],
   "source": [
    "# tentukan hyperparameter\n",
    "lr = 0.001\n",
    "max_epochs = 100\n",
    "opt_funct = Adam(learning_rate=lr)"
   ]
  },
  {
   "cell_type": "code",
   "execution_count": 14,
   "metadata": {},
   "outputs": [],
   "source": [
    "# compile arsitektur yang telah dibuat\n",
    "model.compile(loss = 'binary_crossentropy', \n",
    "              optimizer = opt_funct, \n",
    "              metrics = ['accuracy'])"
   ]
  },
  {
   "cell_type": "markdown",
   "metadata": {},
   "source": [
    "<h3>6. Train Model</h3>"
   ]
  },
  {
   "cell_type": "code",
   "execution_count": 15,
   "metadata": {},
   "outputs": [
    {
     "name": "stdout",
     "output_type": "stream",
     "text": [
      "Epoch 1/100\n",
      "3/3 [==============================] - 1s 135ms/step - loss: 0.8573 - accuracy: 0.4400 - val_loss: 0.7205 - val_accuracy: 0.3684\n",
      "Epoch 2/100\n",
      "3/3 [==============================] - 0s 44ms/step - loss: 0.5689 - accuracy: 0.6133 - val_loss: 0.4586 - val_accuracy: 1.0000\n",
      "Epoch 3/100\n",
      "3/3 [==============================] - 0s 44ms/step - loss: 0.4903 - accuracy: 0.8800 - val_loss: 0.3442 - val_accuracy: 1.0000\n",
      "Epoch 4/100\n",
      "3/3 [==============================] - 0s 52ms/step - loss: 0.3316 - accuracy: 0.9733 - val_loss: 0.2854 - val_accuracy: 1.0000\n",
      "Epoch 5/100\n",
      "3/3 [==============================] - 0s 46ms/step - loss: 0.2412 - accuracy: 1.0000 - val_loss: 0.1213 - val_accuracy: 1.0000\n",
      "Epoch 6/100\n",
      "3/3 [==============================] - 0s 36ms/step - loss: 0.1066 - accuracy: 1.0000 - val_loss: 0.0503 - val_accuracy: 1.0000\n",
      "Epoch 7/100\n",
      "3/3 [==============================] - 0s 33ms/step - loss: 0.0578 - accuracy: 0.9867 - val_loss: 0.0251 - val_accuracy: 1.0000\n",
      "Epoch 8/100\n",
      "3/3 [==============================] - 0s 42ms/step - loss: 0.0290 - accuracy: 1.0000 - val_loss: 0.0142 - val_accuracy: 1.0000\n",
      "Epoch 9/100\n",
      "3/3 [==============================] - 0s 36ms/step - loss: 0.0176 - accuracy: 1.0000 - val_loss: 0.0045 - val_accuracy: 1.0000\n",
      "Epoch 10/100\n",
      "3/3 [==============================] - 0s 33ms/step - loss: 0.0108 - accuracy: 1.0000 - val_loss: 0.0018 - val_accuracy: 1.0000\n",
      "Epoch 11/100\n",
      "3/3 [==============================] - 0s 33ms/step - loss: 0.0074 - accuracy: 1.0000 - val_loss: 9.5764e-04 - val_accuracy: 1.0000\n",
      "Epoch 12/100\n",
      "3/3 [==============================] - 0s 32ms/step - loss: 0.0036 - accuracy: 1.0000 - val_loss: 0.0010 - val_accuracy: 1.0000\n",
      "Epoch 13/100\n",
      "3/3 [==============================] - 0s 29ms/step - loss: 0.0035 - accuracy: 1.0000 - val_loss: 0.0011 - val_accuracy: 1.0000\n",
      "Epoch 14/100\n",
      "3/3 [==============================] - 0s 33ms/step - loss: 0.0014 - accuracy: 1.0000 - val_loss: 3.2536e-04 - val_accuracy: 1.0000\n",
      "Epoch 15/100\n",
      "3/3 [==============================] - 0s 42ms/step - loss: 0.0015 - accuracy: 1.0000 - val_loss: 1.9875e-04 - val_accuracy: 1.0000\n",
      "Epoch 16/100\n",
      "3/3 [==============================] - 0s 33ms/step - loss: 6.7930e-04 - accuracy: 1.0000 - val_loss: 1.5567e-04 - val_accuracy: 1.0000\n",
      "Epoch 17/100\n",
      "3/3 [==============================] - 0s 42ms/step - loss: 0.0018 - accuracy: 1.0000 - val_loss: 1.3774e-04 - val_accuracy: 1.0000\n",
      "Epoch 18/100\n",
      "3/3 [==============================] - 0s 32ms/step - loss: 4.9301e-04 - accuracy: 1.0000 - val_loss: 1.8649e-04 - val_accuracy: 1.0000\n",
      "Epoch 19/100\n",
      "3/3 [==============================] - 0s 29ms/step - loss: 9.9989e-04 - accuracy: 1.0000 - val_loss: 1.5386e-04 - val_accuracy: 1.0000\n",
      "Epoch 20/100\n",
      "3/3 [==============================] - 0s 29ms/step - loss: 2.7344e-04 - accuracy: 1.0000 - val_loss: 8.4910e-05 - val_accuracy: 1.0000\n",
      "Epoch 21/100\n",
      "3/3 [==============================] - 0s 42ms/step - loss: 4.7850e-04 - accuracy: 1.0000 - val_loss: 9.2438e-05 - val_accuracy: 1.0000\n",
      "Epoch 22/100\n",
      "3/3 [==============================] - 0s 33ms/step - loss: 5.0222e-04 - accuracy: 1.0000 - val_loss: 9.3920e-05 - val_accuracy: 1.0000\n",
      "Epoch 23/100\n",
      "3/3 [==============================] - 0s 31ms/step - loss: 9.2343e-04 - accuracy: 1.0000 - val_loss: 6.7514e-05 - val_accuracy: 1.0000\n",
      "Epoch 24/100\n",
      "3/3 [==============================] - 0s 32ms/step - loss: 3.7078e-04 - accuracy: 1.0000 - val_loss: 6.4302e-05 - val_accuracy: 1.0000\n",
      "Epoch 25/100\n",
      "3/3 [==============================] - 0s 31ms/step - loss: 2.6783e-04 - accuracy: 1.0000 - val_loss: 8.1228e-05 - val_accuracy: 1.0000\n",
      "Epoch 26/100\n",
      "3/3 [==============================] - 0s 31ms/step - loss: 5.0762e-04 - accuracy: 1.0000 - val_loss: 8.3439e-05 - val_accuracy: 1.0000\n",
      "Epoch 27/100\n",
      "3/3 [==============================] - 0s 32ms/step - loss: 3.4507e-04 - accuracy: 1.0000 - val_loss: 5.9720e-05 - val_accuracy: 1.0000\n",
      "Epoch 28/100\n",
      "3/3 [==============================] - 0s 32ms/step - loss: 9.1574e-05 - accuracy: 1.0000 - val_loss: 5.0554e-05 - val_accuracy: 1.0000\n",
      "Epoch 29/100\n",
      "3/3 [==============================] - 0s 30ms/step - loss: 1.6093e-04 - accuracy: 1.0000 - val_loss: 4.5799e-05 - val_accuracy: 1.0000\n",
      "Epoch 30/100\n",
      "3/3 [==============================] - 0s 30ms/step - loss: 2.3024e-04 - accuracy: 1.0000 - val_loss: 4.2232e-05 - val_accuracy: 1.0000\n",
      "Epoch 31/100\n",
      "3/3 [==============================] - 0s 29ms/step - loss: 2.4029e-04 - accuracy: 1.0000 - val_loss: 4.0876e-05 - val_accuracy: 1.0000\n",
      "Epoch 32/100\n",
      "3/3 [==============================] - 0s 29ms/step - loss: 2.4389e-04 - accuracy: 1.0000 - val_loss: 4.0768e-05 - val_accuracy: 1.0000\n",
      "Epoch 33/100\n",
      "3/3 [==============================] - 0s 30ms/step - loss: 2.4364e-04 - accuracy: 1.0000 - val_loss: 4.3860e-05 - val_accuracy: 1.0000\n",
      "Epoch 34/100\n",
      "3/3 [==============================] - 0s 31ms/step - loss: 1.3267e-04 - accuracy: 1.0000 - val_loss: 5.0732e-05 - val_accuracy: 1.0000\n",
      "Epoch 35/100\n",
      "3/3 [==============================] - 0s 30ms/step - loss: 3.9844e-05 - accuracy: 1.0000 - val_loss: 5.7878e-05 - val_accuracy: 1.0000\n",
      "Epoch 36/100\n",
      "3/3 [==============================] - 0s 30ms/step - loss: 2.2748e-04 - accuracy: 1.0000 - val_loss: 5.8141e-05 - val_accuracy: 1.0000\n",
      "Epoch 37/100\n",
      "3/3 [==============================] - 0s 34ms/step - loss: 1.6883e-04 - accuracy: 1.0000 - val_loss: 5.3005e-05 - val_accuracy: 1.0000\n",
      "Epoch 38/100\n",
      "3/3 [==============================] - 0s 30ms/step - loss: 2.3294e-04 - accuracy: 1.0000 - val_loss: 4.2486e-05 - val_accuracy: 1.0000\n",
      "Epoch 39/100\n",
      "3/3 [==============================] - 0s 29ms/step - loss: 2.2530e-04 - accuracy: 1.0000 - val_loss: 3.9421e-05 - val_accuracy: 1.0000\n",
      "Epoch 40/100\n",
      "3/3 [==============================] - 0s 31ms/step - loss: 3.2888e-04 - accuracy: 1.0000 - val_loss: 3.6146e-05 - val_accuracy: 1.0000\n",
      "Epoch 41/100\n",
      "3/3 [==============================] - 0s 30ms/step - loss: 5.7425e-05 - accuracy: 1.0000 - val_loss: 3.3369e-05 - val_accuracy: 1.0000\n",
      "Epoch 42/100\n",
      "3/3 [==============================] - 0s 30ms/step - loss: 2.9231e-04 - accuracy: 1.0000 - val_loss: 3.1208e-05 - val_accuracy: 1.0000\n",
      "Epoch 43/100\n",
      "3/3 [==============================] - 0s 33ms/step - loss: 8.8804e-05 - accuracy: 1.0000 - val_loss: 3.1787e-05 - val_accuracy: 1.0000\n",
      "Epoch 44/100\n",
      "3/3 [==============================] - 0s 31ms/step - loss: 1.0780e-04 - accuracy: 1.0000 - val_loss: 3.4133e-05 - val_accuracy: 1.0000\n",
      "Epoch 45/100\n",
      "3/3 [==============================] - 0s 32ms/step - loss: 4.7176e-05 - accuracy: 1.0000 - val_loss: 3.6594e-05 - val_accuracy: 1.0000\n",
      "Epoch 46/100\n",
      "3/3 [==============================] - 0s 30ms/step - loss: 5.3912e-05 - accuracy: 1.0000 - val_loss: 3.8748e-05 - val_accuracy: 1.0000\n",
      "Epoch 47/100\n",
      "3/3 [==============================] - 0s 31ms/step - loss: 1.1390e-04 - accuracy: 1.0000 - val_loss: 3.9224e-05 - val_accuracy: 1.0000\n",
      "Epoch 48/100\n",
      "3/3 [==============================] - 0s 30ms/step - loss: 1.1117e-04 - accuracy: 1.0000 - val_loss: 3.7947e-05 - val_accuracy: 1.0000\n",
      "Epoch 49/100\n",
      "3/3 [==============================] - 0s 29ms/step - loss: 1.1175e-04 - accuracy: 1.0000 - val_loss: 3.5811e-05 - val_accuracy: 1.0000\n",
      "Epoch 50/100\n",
      "3/3 [==============================] - 0s 29ms/step - loss: 7.4642e-05 - accuracy: 1.0000 - val_loss: 3.3415e-05 - val_accuracy: 1.0000\n",
      "Epoch 51/100\n",
      "3/3 [==============================] - 0s 31ms/step - loss: 3.8207e-05 - accuracy: 1.0000 - val_loss: 3.1170e-05 - val_accuracy: 1.0000\n",
      "Epoch 52/100\n",
      "3/3 [==============================] - 0s 31ms/step - loss: 1.4664e-04 - accuracy: 1.0000 - val_loss: 3.0977e-05 - val_accuracy: 1.0000\n",
      "Epoch 53/100\n",
      "3/3 [==============================] - 0s 34ms/step - loss: 2.8657e-05 - accuracy: 1.0000 - val_loss: 3.0577e-05 - val_accuracy: 1.0000\n",
      "Epoch 54/100\n",
      "3/3 [==============================] - 0s 34ms/step - loss: 1.3929e-04 - accuracy: 1.0000 - val_loss: 2.9496e-05 - val_accuracy: 1.0000\n",
      "Epoch 55/100\n",
      "3/3 [==============================] - 0s 34ms/step - loss: 6.7050e-05 - accuracy: 1.0000 - val_loss: 2.5486e-05 - val_accuracy: 1.0000\n",
      "Epoch 56/100\n",
      "3/3 [==============================] - 0s 33ms/step - loss: 6.0799e-05 - accuracy: 1.0000 - val_loss: 2.2950e-05 - val_accuracy: 1.0000\n",
      "Epoch 57/100\n",
      "3/3 [==============================] - 0s 36ms/step - loss: 9.0918e-05 - accuracy: 1.0000 - val_loss: 2.1524e-05 - val_accuracy: 1.0000\n",
      "Epoch 58/100\n",
      "3/3 [==============================] - 0s 34ms/step - loss: 4.1683e-05 - accuracy: 1.0000 - val_loss: 2.0758e-05 - val_accuracy: 1.0000\n",
      "Epoch 59/100\n",
      "3/3 [==============================] - 0s 33ms/step - loss: 2.9415e-05 - accuracy: 1.0000 - val_loss: 2.0205e-05 - val_accuracy: 1.0000\n",
      "Epoch 60/100\n",
      "3/3 [==============================] - 0s 35ms/step - loss: 3.1340e-05 - accuracy: 1.0000 - val_loss: 1.9756e-05 - val_accuracy: 1.0000\n",
      "Epoch 61/100\n",
      "3/3 [==============================] - 0s 32ms/step - loss: 6.0321e-05 - accuracy: 1.0000 - val_loss: 1.8826e-05 - val_accuracy: 1.0000\n",
      "Epoch 62/100\n",
      "3/3 [==============================] - 0s 37ms/step - loss: 5.3947e-05 - accuracy: 1.0000 - val_loss: 1.8407e-05 - val_accuracy: 1.0000\n",
      "Epoch 63/100\n",
      "3/3 [==============================] - 0s 32ms/step - loss: 4.5218e-05 - accuracy: 1.0000 - val_loss: 1.8860e-05 - val_accuracy: 1.0000\n",
      "Epoch 64/100\n",
      "3/3 [==============================] - 0s 36ms/step - loss: 4.4464e-05 - accuracy: 1.0000 - val_loss: 1.9346e-05 - val_accuracy: 1.0000\n",
      "Epoch 65/100\n",
      "3/3 [==============================] - 0s 37ms/step - loss: 4.5014e-05 - accuracy: 1.0000 - val_loss: 1.9977e-05 - val_accuracy: 1.0000\n",
      "Epoch 66/100\n",
      "3/3 [==============================] - 0s 32ms/step - loss: 4.6240e-05 - accuracy: 1.0000 - val_loss: 2.1019e-05 - val_accuracy: 1.0000\n",
      "Epoch 67/100\n",
      "3/3 [==============================] - 0s 33ms/step - loss: 2.9840e-05 - accuracy: 1.0000 - val_loss: 2.1508e-05 - val_accuracy: 1.0000\n",
      "Epoch 68/100\n",
      "3/3 [==============================] - 0s 32ms/step - loss: 1.1648e-04 - accuracy: 1.0000 - val_loss: 2.0594e-05 - val_accuracy: 1.0000\n",
      "Epoch 69/100\n",
      "3/3 [==============================] - 0s 29ms/step - loss: 5.9118e-05 - accuracy: 1.0000 - val_loss: 1.8415e-05 - val_accuracy: 1.0000\n",
      "Epoch 70/100\n",
      "3/3 [==============================] - 0s 29ms/step - loss: 2.2929e-05 - accuracy: 1.0000 - val_loss: 1.7073e-05 - val_accuracy: 1.0000\n",
      "Epoch 71/100\n",
      "3/3 [==============================] - 0s 29ms/step - loss: 3.5266e-05 - accuracy: 1.0000 - val_loss: 1.6484e-05 - val_accuracy: 1.0000\n",
      "Epoch 72/100\n",
      "3/3 [==============================] - 0s 28ms/step - loss: 1.6601e-04 - accuracy: 1.0000 - val_loss: 2.0703e-05 - val_accuracy: 1.0000\n",
      "Epoch 73/100\n",
      "3/3 [==============================] - 0s 30ms/step - loss: 7.5035e-05 - accuracy: 1.0000 - val_loss: 2.2068e-05 - val_accuracy: 1.0000\n",
      "Epoch 74/100\n",
      "3/3 [==============================] - 0s 29ms/step - loss: 2.3559e-05 - accuracy: 1.0000 - val_loss: 2.2623e-05 - val_accuracy: 1.0000\n",
      "Epoch 75/100\n",
      "3/3 [==============================] - 0s 28ms/step - loss: 1.0392e-04 - accuracy: 1.0000 - val_loss: 2.1487e-05 - val_accuracy: 1.0000\n",
      "Epoch 76/100\n",
      "3/3 [==============================] - 0s 31ms/step - loss: 2.0835e-05 - accuracy: 1.0000 - val_loss: 1.9729e-05 - val_accuracy: 1.0000\n",
      "Epoch 77/100\n",
      "3/3 [==============================] - 0s 50ms/step - loss: 2.4006e-05 - accuracy: 1.0000 - val_loss: 1.8489e-05 - val_accuracy: 1.0000\n",
      "Epoch 78/100\n",
      "3/3 [==============================] - 0s 39ms/step - loss: 4.4926e-05 - accuracy: 1.0000 - val_loss: 1.6589e-05 - val_accuracy: 1.0000\n",
      "Epoch 79/100\n",
      "3/3 [==============================] - 0s 34ms/step - loss: 1.8862e-05 - accuracy: 1.0000 - val_loss: 1.4656e-05 - val_accuracy: 1.0000\n",
      "Epoch 80/100\n",
      "3/3 [==============================] - 0s 34ms/step - loss: 4.5296e-05 - accuracy: 1.0000 - val_loss: 1.3459e-05 - val_accuracy: 1.0000\n",
      "Epoch 81/100\n",
      "3/3 [==============================] - 0s 32ms/step - loss: 4.7713e-05 - accuracy: 1.0000 - val_loss: 1.2584e-05 - val_accuracy: 1.0000\n",
      "Epoch 82/100\n",
      "3/3 [==============================] - 0s 33ms/step - loss: 5.6417e-05 - accuracy: 1.0000 - val_loss: 1.2417e-05 - val_accuracy: 1.0000\n",
      "Epoch 83/100\n",
      "3/3 [==============================] - 0s 32ms/step - loss: 5.6555e-05 - accuracy: 1.0000 - val_loss: 1.2622e-05 - val_accuracy: 1.0000\n",
      "Epoch 84/100\n",
      "3/3 [==============================] - 0s 33ms/step - loss: 8.8643e-05 - accuracy: 1.0000 - val_loss: 1.4361e-05 - val_accuracy: 1.0000\n",
      "Epoch 85/100\n",
      "3/3 [==============================] - 0s 34ms/step - loss: 2.5885e-05 - accuracy: 1.0000 - val_loss: 1.6074e-05 - val_accuracy: 1.0000\n",
      "Epoch 86/100\n",
      "3/3 [==============================] - 0s 37ms/step - loss: 7.7624e-05 - accuracy: 1.0000 - val_loss: 1.5552e-05 - val_accuracy: 1.0000\n",
      "Epoch 87/100\n",
      "3/3 [==============================] - 0s 32ms/step - loss: 4.2911e-05 - accuracy: 1.0000 - val_loss: 1.3366e-05 - val_accuracy: 1.0000\n",
      "Epoch 88/100\n",
      "3/3 [==============================] - 0s 30ms/step - loss: 3.3238e-05 - accuracy: 1.0000 - val_loss: 1.1767e-05 - val_accuracy: 1.0000\n",
      "Epoch 89/100\n",
      "3/3 [==============================] - 0s 31ms/step - loss: 3.1738e-05 - accuracy: 1.0000 - val_loss: 1.0665e-05 - val_accuracy: 1.0000\n",
      "Epoch 90/100\n",
      "3/3 [==============================] - 0s 30ms/step - loss: 4.2134e-05 - accuracy: 1.0000 - val_loss: 9.7259e-06 - val_accuracy: 1.0000\n",
      "Epoch 91/100\n",
      "3/3 [==============================] - 0s 30ms/step - loss: 1.8794e-05 - accuracy: 1.0000 - val_loss: 8.9851e-06 - val_accuracy: 1.0000\n",
      "Epoch 92/100\n",
      "3/3 [==============================] - 0s 35ms/step - loss: 5.9623e-05 - accuracy: 1.0000 - val_loss: 8.2639e-06 - val_accuracy: 1.0000\n",
      "Epoch 93/100\n",
      "3/3 [==============================] - 0s 30ms/step - loss: 3.0007e-05 - accuracy: 1.0000 - val_loss: 7.9970e-06 - val_accuracy: 1.0000\n",
      "Epoch 94/100\n",
      "3/3 [==============================] - 0s 34ms/step - loss: 2.8895e-05 - accuracy: 1.0000 - val_loss: 7.7967e-06 - val_accuracy: 1.0000\n",
      "Epoch 95/100\n",
      "3/3 [==============================] - 0s 40ms/step - loss: 4.7928e-05 - accuracy: 1.0000 - val_loss: 7.4191e-06 - val_accuracy: 1.0000\n",
      "Epoch 96/100\n",
      "3/3 [==============================] - 0s 35ms/step - loss: 3.6723e-05 - accuracy: 1.0000 - val_loss: 7.0452e-06 - val_accuracy: 1.0000\n",
      "Epoch 97/100\n",
      "3/3 [==============================] - 0s 33ms/step - loss: 5.1237e-05 - accuracy: 1.0000 - val_loss: 6.8121e-06 - val_accuracy: 1.0000\n",
      "Epoch 98/100\n",
      "3/3 [==============================] - 0s 45ms/step - loss: 4.4409e-05 - accuracy: 1.0000 - val_loss: 6.4201e-06 - val_accuracy: 1.0000\n",
      "Epoch 99/100\n",
      "3/3 [==============================] - 0s 45ms/step - loss: 1.0351e-04 - accuracy: 1.0000 - val_loss: 6.7674e-06 - val_accuracy: 1.0000\n",
      "Epoch 100/100\n",
      "3/3 [==============================] - 0s 34ms/step - loss: 3.3970e-05 - accuracy: 1.0000 - val_loss: 8.7570e-06 - val_accuracy: 1.0000\n"
     ]
    }
   ],
   "source": [
    "H = model.fit(x_train, y_train, validation_data=(x_test, y_test), \n",
    "          epochs=max_epochs, batch_size=32)"
   ]
  },
  {
   "cell_type": "code",
   "execution_count": 16,
   "metadata": {},
   "outputs": [
    {
     "data": {
      "image/png": "[encoded data removed]",
      "text/plain": [
       "<Figure size 432x288 with 1 Axes>"
      ]
     },
     "metadata": {},
     "output_type": "display_data"
    }
   ],
   "source": [
    "N = np.arange(0, max_epochs)\n",
    "plt.style.use(\"ggplot\")\n",
    "plt.figure()\n",
    "plt.plot(N, H.history[\"loss\"], label=\"train_loss\")\n",
    "plt.plot(N, H.history[\"val_loss\"], label=\"val_loss\")\n",
    "#plt.plot(N, H.history[\"accuracy\"], label=\"train_acc\")\n",
    "#plt.plot(N, H.history[\"val_accuracy\"], label=\"val_acc\")\n",
    "plt.xlabel(\"Epoch #\")\n",
    "plt.legend()\n",
    "plt.show()"
   ]
  },
  {
   "cell_type": "markdown",
   "metadata": {},
   "source": [
    "<h3>7. Evaluate the Model</h3>"
   ]
  },
  {
   "cell_type": "code",
   "execution_count": 17,
   "metadata": {},
   "outputs": [
    {
     "name": "stdout",
     "output_type": "stream",
     "text": [
      "              precision    recall  f1-score   support\n",
      "\n",
      " Jeruk_Nipis       1.00      1.00      1.00        12\n",
      "       Sirih       1.00      1.00      1.00         7\n",
      "\n",
      "    accuracy                           1.00        19\n",
      "   macro avg       1.00      1.00      1.00        19\n",
      "weighted avg       1.00      1.00      1.00        19\n",
      "\n"
     ]
    },
    {
     "name": "stderr",
     "output_type": "stream",
     "text": [
      "<ipython-input-17-c664c678823f>:3: DeprecationWarning: `np.int` is a deprecated alias for the builtin `int`. To silence this warning, use `int` by itself. Doing this will not modify any behavior and is safe. When replacing `np.int`, you may wish to use e.g. `np.int64` or `np.int32` to specify the precision. If you wish to review your current use, check the release note link for additional information.\n",
      "Deprecated in NumPy 1.20; for more details and guidance: https://numpy.org/devdocs/release/1.20.0-notes.html#deprecations\n",
      "  target = (predictions > 0.5).astype(np.int)\n"
     ]
    }
   ],
   "source": [
    "# menghitung nilai akurasi model terhadap data test\n",
    "predictions = model.predict(x_test, batch_size=32)\n",
    "target = (predictions > 0.5).astype(np.int)\n",
    "print(classification_report(y_test, target, target_names=label_list))"
   ]
  },
  {
   "cell_type": "code",
   "execution_count": 18,
   "metadata": {},
   "outputs": [
    {
     "name": "stdout",
     "output_type": "stream",
     "text": [
      "[[0.9999371]]\n"
     ]
    }
   ],
   "source": [
    "# uji model menggunakan image lain\n",
    "queryPath = imagePaths+'q_daunj.png'\n",
    "query = cv2.imread(queryPath)\n",
    "output = query.copy()\n",
    "query = cv2.resize(query, (32, 32))\n",
    "q = []\n",
    "q.append(query)\n",
    "q = np.array(q, dtype='float') / 255.0\n",
    "\n",
    "q_pred = model.predict(q)\n",
    "print(q_pred)"
   ]
  },
  {
   "cell_type": "code",
   "execution_count": 19,
   "metadata": {},
   "outputs": [
    {
     "ename": "error",
     "evalue": "OpenCV(4.5.4-dev) D:\\a\\opencv-python\\opencv-python\\opencv\\modules\\highgui\\src\\window_w32.cpp:1261: error: (-27:Null pointer) NULL window: 'Output' in function 'cvDestroyWindow'\n",
     "output_type": "error",
     "traceback": [
      "\u001b[1;31m---------------------------------------------------------------------------\u001b[0m",
      "\u001b[1;31merror\u001b[0m                                     Traceback (most recent call last)",
      "\u001b[1;32m<ipython-input-19-fd222d7f803d>\u001b[0m in \u001b[0;36m<module>\u001b[1;34m\u001b[0m\n\u001b[0;32m      9\u001b[0m \u001b[0mcv2\u001b[0m\u001b[1;33m.\u001b[0m\u001b[0mimshow\u001b[0m\u001b[1;33m(\u001b[0m\u001b[1;34m'Output'\u001b[0m\u001b[1;33m,\u001b[0m \u001b[0moutput\u001b[0m\u001b[1;33m)\u001b[0m\u001b[1;33m\u001b[0m\u001b[1;33m\u001b[0m\u001b[0m\n\u001b[0;32m     10\u001b[0m \u001b[0mcv2\u001b[0m\u001b[1;33m.\u001b[0m\u001b[0mwaitKey\u001b[0m\u001b[1;33m(\u001b[0m\u001b[1;33m)\u001b[0m \u001b[1;31m# image tidak akan diclose,sebelum user menekan sembarang tombol\u001b[0m\u001b[1;33m\u001b[0m\u001b[1;33m\u001b[0m\u001b[0m\n\u001b[1;32m---> 11\u001b[1;33m \u001b[0mcv2\u001b[0m\u001b[1;33m.\u001b[0m\u001b[0mdestroyWindow\u001b[0m\u001b[1;33m(\u001b[0m\u001b[1;34m'Output'\u001b[0m\u001b[1;33m)\u001b[0m \u001b[1;31m# image akan diclose\u001b[0m\u001b[1;33m\u001b[0m\u001b[1;33m\u001b[0m\u001b[0m\n\u001b[0m",
      "\u001b[1;31merror\u001b[0m: OpenCV(4.5.4-dev) D:\\a\\opencv-python\\opencv-python\\opencv\\modules\\highgui\\src\\window_w32.cpp:1261: error: (-27:Null pointer) NULL window: 'Output' in function 'cvDestroyWindow'\n"
     ]
    }
   ],
   "source": [
    "if q_pred<=0.5 :\n",
    "    target = \"Jeruk\"\n",
    "else :\n",
    "    target = \"Sirih\"\n",
    "text = \"{}\".format(target)\n",
    "cv2.putText(output, text, (10, 30), cv2.FONT_HERSHEY_SIMPLEX, 0.7, (0, 0, 255), 2)\n",
    " \n",
    "# menampilkan output image\n",
    "cv2.imshow('Output', output)\n",
    "cv2.waitKey() # image tidak akan diclose,sebelum user menekan sembarang tombol\n",
    "cv2.destroyWindow('Output') # image akan diclose"
   ]
  },
  {
   "cell_type": "code",
   "execution_count": 22,
   "metadata": {},
   "outputs": [],
   "source": [
    "model.save('JerukSirih1.h5')"
   ]
  }
 ],
 "metadata": {
  "kernelspec": {
   "display_name": "Python 3",
   "language": "python",
   "name": "python3"
  },
  "language_info": {
   "codemirror_mode": {
    "name": "ipython",
    "version": 3
   },
   "file_extension": ".py",
   "mimetype": "text/x-python",
   "name": "python",
   "nbconvert_exporter": "python",
   "pygments_lexer": "ipython3",
   "version": "3.8.8"
  }
 },
 "nbformat": 4,
 "nbformat_minor": 4
}
